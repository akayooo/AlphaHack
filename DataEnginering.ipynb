{
 "cells": [
  {
   "cell_type": "markdown",
   "id": "a857f3df-f8c5-470e-acf0-233d5b14b129",
   "metadata": {},
   "source": [
    "# Импорты"
   ]
  },
  {
   "cell_type": "code",
   "execution_count": 1,
   "id": "7744191c-0aca-4f4e-b0bf-f8df699276e8",
   "metadata": {},
   "outputs": [],
   "source": [
    "import pandas as pd\n",
    "import numpy as np \n",
    "import matplotlib.pyplot as plt\n",
    "from sklearn.preprocessing import StandardScaler\n",
    "from sklearn.model_selection import train_test_split\n",
    "from sklearn.feature_selection import RFE\n",
    "from sklearn.metrics import roc_auc_score\n",
    "from tqdm import tqdm\n",
    "import lightgbm as lgb \n",
    "import optuna\n",
    "from sklearn.preprocessing import PolynomialFeatures\n",
    "import seaborn as sns\n",
    "from imblearn.over_sampling import SMOTE\n",
    "from sklearn.datasets import make_classification\n",
    "from sklearn.ensemble import GradientBoostingClassifier\n",
    "import xgboost as xgb"
   ]
  },
  {
   "cell_type": "markdown",
   "id": "60aa4b5b-ab03-4316-9147-4bc87c498790",
   "metadata": {},
   "source": [
    "# Импорт данных"
   ]
  },
  {
   "cell_type": "code",
   "execution_count": 2,
   "id": "5b63c9ab-1860-487d-8cc3-a46f682c4658",
   "metadata": {},
   "outputs": [],
   "source": [
    "data = pd.read_csv(\"C:\\\\Users\\\\akayo\\\\Hacks\\\\Alpha_data\\\\train_1.csv\")"
   ]
  },
  {
   "cell_type": "code",
   "execution_count": 3,
   "id": "1f5bef88-85ce-4fa9-8742-9d27c52a1f07",
   "metadata": {},
   "outputs": [],
   "source": [
    "data = data.sort_values(by='target', ascending=False)"
   ]
  },
  {
   "cell_type": "code",
   "execution_count": 5,
   "id": "e0497142-7a79-4ddf-aac0-856cfa9efa12",
   "metadata": {},
   "outputs": [
    {
     "data": {
      "text/plain": [
       "<Axes: xlabel='target', ylabel='count'>"
      ]
     },
     "execution_count": 5,
     "metadata": {},
     "output_type": "execute_result"
    },
    {
     "data": {
      "image/png": "[encoded data removed]",
      "text/plain": [
       "<Figure size 640x480 with 1 Axes>"
      ]
     },
     "metadata": {},
     "output_type": "display_data"
    }
   ],
   "source": [
    "sns.countplot(data=data, x='target', hue='target')"
   ]
  },
  {
   "cell_type": "code",
   "execution_count": 6,
   "id": "7756502e-f10f-4f90-bdc7-414f1a96cb96",
   "metadata": {},
   "outputs": [],
   "source": [
    "X = data.drop(columns=['smpl', 'target']).values\n",
    "y = data['target'].values\n",
    "\n",
    "X_train, X_test, y_train, y_test = train_test_split(X, y, test_size=0.2, random_state=42, stratify=y)"
   ]
  },
  {
   "cell_type": "markdown",
   "id": "53df1530-544d-458d-811c-0d2645cabefb",
   "metadata": {},
   "source": [
    "# Боремся с дизбалансом классов"
   ]
  },
  {
   "cell_type": "markdown",
   "id": "864f8ca1-4dbb-45f5-8aff-a88ef16935ed",
   "metadata": {},
   "source": [
    "### SMOTE"
   ]
  },
  {
   "cell_type": "code",
   "execution_count": null,
   "id": "5cab84f9-c575-48b0-9b7b-0fe3b5a1190e",
   "metadata": {},
   "outputs": [],
   "source": [
    "smote = SMOTE(random_state=42)\n",
    "X_train_resampled, y_train_resampled = smote.fit_resample(X_train, y_train)\n",
    "\n",
    "model = GradientBoostingClassifier(random_state=42)\n",
    "model.fit(X_train_resampled, y_train_resampled)\n",
    "\n",
    "y_pred = model.predict(X_test)\n",
    "\n",
    "roc_auc = roc_auc_score(y_test, y_pred)\n",
    "print(f'ROC_AUC: {roc_auc}')"
   ]
  },
  {
   "cell_type": "markdown",
   "id": "db68d0d3-f78f-4f76-be6d-62075a65573c",
   "metadata": {
    "jp-MarkdownHeadingCollapsed": true
   },
   "source": [
    "# Функции для препарейшна и идеи"
   ]
  },
  {
   "cell_type": "code",
   "execution_count": null,
   "id": "49c2876e-9cb9-4072-a8b4-2eba3ac50c7f",
   "metadata": {},
   "outputs": [],
   "source": [
    "# PCA + RFE -> 76% (Следует сначала сгенирировать фичи, а затем отобрать) пробуем и featuretools и tsfresh"
   ]
  },
  {
   "cell_type": "code",
   "execution_count": null,
   "id": "bd0e6496-2936-46a8-b2c8-f7a1d4101c3d",
   "metadata": {},
   "outputs": [],
   "source": [
    "def data_preparation(data):\n",
    "    X = data.drop(columns=['id', 'smpl', 'target']).values\n",
    "    y = data['target'].values\n",
    "\n",
    "    X_train, X_test, y_train, y_test = train_test_split(X, y, test_size=0.2, random_state=42)\n",
    "\n",
    "    scaler = StandardScaler()\n",
    "    X_train_scaled = scaler.fit_transform(X_train)\n",
    "    X_test_scaled = scaler.transform(X_test)\n",
    "\n",
    "    pca = PCA(n_components=389)\n",
    "    X_train_pca = pca.fit_transform(X_train_scaled)\n",
    "    X_test_pca = pca.transform(X_test_scaled)\n",
    "\n",
    "    model = model_lgb = lgb.LGBMClassifier(random_state=42)\n",
    "    \n",
    "    rfe = RFE(estimator=model, n_features_to_select=25)\n",
    "    rfe.fit(X_train, y_train)\n",
    "    selected_feature_indices = rfe.get_support(indices=True)\n",
    "\n",
    "    X_train_selected = X_train[:, selected_feature_indices]\n",
    "    X_test_selected = X_test[:, selected_feature_indices]\n",
    "\n",
    "    return X_train_selected, X_test_selected\n",
    "\n",
    "def data_preparation(data):\n",
    "    X = data.drop(columns=['id', 'smpl', 'target']).values\n",
    "    y = data['target'].values\n",
    "\n",
    "    X_train, X_test, y_train, y_test = train_test_split(X, y, test_size=0.2, random_state=42)\n",
    "\n",
    "    scaler = StandardScaler()\n",
    "    X_train_scaled = scaler.fit_transform(X_train)\n",
    "    X_test_scaled = scaler.transform(X_test)\n",
    "\n",
    "    pca = PCA(n_components=389)\n",
    "    X_train_pca = pca.fit_transform(X_train_scaled)\n",
    "    X_test_pca = pca.transform(X_test_scaled)\n",
    "\n",
    "    return pca\n",
    "\n",
    "def pca_vizualization(pca):\n",
    "    explained_variance_ratio = pca.explained_variance_ratio_\n",
    "    cumulative_explained_variance = explained_variance_ratio.cumsum()\n",
    "    \n",
    "    plt.figure(figsize=(10, 6))\n",
    "    plt.plot(range(1, len(cumulative_explained_variance) + 1), cumulative_explained_variance, marker='o', linestyle='--')\n",
    "    plt.xlabel('Количество компонент')\n",
    "    plt.ylabel('Доля объясненной дисперсии')\n",
    "    plt.title('Доля объясненной дисперсии в зависимости от количества компонент')\n",
    "    plt.grid(True)\n",
    "    plt.show()\n",
    "    \n",
    "    n_components = (cumulative_explained_variance < 0.95).sum() + 1\n",
    "    print(f'Количество компонент, сохраняющих 95% информации: {n_components}')"
   ]
  },
  {
   "cell_type": "code",
   "execution_count": null,
   "id": "73e9efbe-a07c-4f71-9104-4f4770378497",
   "metadata": {},
   "outputs": [],
   "source": [
    "def data_for_lgb(train_data, test_data):\n",
    "    train_data = lgb.Dataset(\n",
    "        X_train_selected,\n",
    "        y_train,\n",
    "        free_raw_data=False,\n",
    "    )\n",
    "    test_data = lgb.Dataset(\n",
    "        X_test_selected,\n",
    "        y_test,\n",
    "        free_raw_data=False,\n",
    "    )"
   ]
  },
  {
   "cell_type": "markdown",
   "id": "a5c617cd-fd6f-4356-af4f-d9684661114e",
   "metadata": {},
   "source": [
    "# Отбор фичей и идеи"
   ]
  },
  {
   "cell_type": "markdown",
   "id": "862c0d22-6b43-402f-96a6-5622edaec272",
   "metadata": {},
   "source": [
    "### RFE"
   ]
  },
  {
   "cell_type": "code",
   "execution_count": null,
   "id": "e53014ff-7e78-465a-b727-4e40c38b4e3f",
   "metadata": {},
   "outputs": [],
   "source": [
    "model = model_lgb = lgb.LGBMClassifier(random_state=42, verbose=-1)\n",
    "\n",
    "scores = []\n",
    "n_features = []\n",
    "\n",
    "for n in tqdm(range(20, 401, 20)):\n",
    "    rfe = RFE(model, n_features_to_select=n, step=20)\n",
    "    \n",
    "    X_train_rfe = rfe.fit_transform(X_train, y_train)\n",
    "    X_test_rfe = rfe.transform(X_test)\n",
    "\n",
    "    model = xgb.XGBClassifier()\n",
    "    model.fit(X_train_rfe, y_train)\n",
    "    \n",
    "    y_pred = model.predict(X_test_rfe)\n",
    "    \n",
    "    accuracy = roc_auc_score(y_test, y_pred)\n",
    "    \n",
    "    scores.append(accuracy)\n",
    "    n_features.append(n)\n",
    "\n",
    "plt.figure(figsize=(10, 6))\n",
    "plt.plot(n_features, scores, marker='o')\n",
    "plt.xlabel('Number of Features')\n",
    "plt.ylabel('ROC_AUC')\n",
    "plt.title('ROC_AUC vs Number of Features')\n",
    "plt.grid(True)\n",
    "plt.show()"
   ]
  },
  {
   "cell_type": "markdown",
   "id": "e386721b-8aad-4ea2-a3b6-d59a0c6687aa",
   "metadata": {},
   "source": [
    "### RFE TEST"
   ]
  },
  {
   "cell_type": "code",
   "execution_count": null,
   "id": "b6252465-c78e-41ca-aeb3-a80e0fae159b",
   "metadata": {},
   "outputs": [],
   "source": [
    "model = model_lgb = lgb.LGBMClassifier(random_state=42)\n",
    "\n",
    "rfe = RFE(estimator=model, n_features_to_select=20)\n",
    "rfe.fit(X_train, y_train)\n",
    "print(\"Обучен RFE\")\n",
    "\n",
    "selected_feature_indices = rfe.get_support(indices=True)\n",
    "\n",
    "X_train_selected = X_train[:, selected_feature_indices]\n",
    "X_test_selected = X_test[:, selected_feature_indices]\n",
    "\n",
    "model.fit(X_train_selected, y_train)\n",
    "print(\"Модель обучена\")\n",
    "\n",
    "predictions = model.predict(X_test_selected)\n",
    "\n",
    "roc_auc = roc_auc_score(y_test, y_pred)\n",
    "\n",
    "print(f'ROC_AUC: {roc_auc}')"
   ]
  },
  {
   "cell_type": "markdown",
   "id": "139d18ff-3b28-4935-b33c-2e1762dbe99f",
   "metadata": {},
   "source": [
    "### PolyFeatures"
   ]
  },
  {
   "cell_type": "code",
   "execution_count": null,
   "id": "6cb3e988-5a58-41d3-8491-bc77429e6239",
   "metadata": {},
   "outputs": [],
   "source": [
    "poly = PolynomialFeatures(degree=2, interaction_only=False, include_bias=False)\n",
    "\n",
    "def generate_poly_features(X, poly, batch_size=1000):\n",
    "    num_samples = X.shape[0]\n",
    "    poly_features = []\n",
    "    for i in tqdm(range(0, num_samples, batch_size), desc=\"Generating Polynomial Features\"):\n",
    "        batch = X[i:i + batch_size]\n",
    "        poly_batch = poly.fit_transform(batch)\n",
    "        poly_features.append(poly_batch)\n",
    "    return np.vstack(poly_features)\n",
    "\n",
    "X_train_poly = generate_poly_features(X_train_selected, poly)\n",
    "X_test_poly = generate_poly_features(X_test_selected, poly)\n",
    "\n",
    "feature_names = poly.get_feature_names_out(pd.DataFrame(X_train_selected).columns.astype(str))\n",
    "\n",
    "X_train_poly_df = pd.DataFrame(X_train_poly, columns=feature_names)\n",
    "X_test_poly_df = pd.DataFrame(X_test_poly, columns=feature_names)\n",
    "\n",
    "print(f\"Размер X_train_selected: {X_train_selected.shape}\")\n",
    "print(f\"Размер X_train_poly_df: {X_train_poly_df.shape}\")\n",
    "print(f\"Размер X_test_selected: {X_test_selected.shape}\")\n",
    "print(f\"Размер X_test_poly_df: {X_test_poly_df.shape}\")\n",
    "\n",
    "model_lgbm = lgb.LGBMClassifier(n_estimators=100, random_state=42)\n",
    "model_lgbm.fit(X_train_poly_df, y_train)\n",
    "\n",
    "y_pred_proba = model_lgbm.predict_proba(X_test_poly_df)[:, 1]\n",
    "roc_auc = roc_auc_score(y_test, y_pred_proba)\n",
    "print(f\"ROC AUC: {roc_auc}\")"
   ]
  },
  {
   "cell_type": "code",
   "execution_count": null,
   "id": "8d389520-b3c6-4fe9-9e40-8c4c0306258f",
   "metadata": {},
   "outputs": [],
   "source": [
    "ffeature_importances = model_lgbm.feature_importances_\n",
    "feature_importance_df = pd.DataFrame({'feature': feature_names, 'importance': feature_importances})\n",
    "\n",
    "feature_importance_df = feature_importance_df.sort_values(by='importance', ascending=False)\n",
    "max_auc = 0\n",
    "max_i = 0\n",
    "\n",
    "for i in range(1, 100):\n",
    "    columns = np.array(feature_importance_df[feature_importance_df['importance'] > i]['feature'])\n",
    "    model = lgb.LGBMClassifier(n_estimators=100, random_state=42, verbose=-1)\n",
    "    \n",
    "    X_train_poly_df = X_train_poly_df[columns]\n",
    "    X_test_poly_df = X_test_poly_df[columns]\n",
    "    model.fit(X_train_poly_df, y_train)\n",
    "    \n",
    "    y_pred_proba = model.predict_proba(X_test_poly_df)[:, 1]\n",
    "    roc_auc = roc_auc_score(y_test, y_pred_proba)\n",
    "    print(f\"ROC AUC: {roc_auc}, i = {i}\")\n",
    "\n",
    "    if roc_auc < 0.9:\n",
    "        break\n",
    "        \n",
    "    if roc_auc > max_auc:\n",
    "        max_auc = roc_auc\n",
    "        max_i = i\n",
    "        \n",
    "\n",
    "print(max_auc, max_i)"
   ]
  },
  {
   "cell_type": "code",
   "execution_count": null,
   "id": "752479be-9b68-4c4d-88e0-0f728a1bee58",
   "metadata": {},
   "outputs": [],
   "source": [
    "# Ура, выбили 0.92 - осталось сделать это все пайплайном и внести временную зависимость"
   ]
  },
  {
   "cell_type": "markdown",
   "id": "54e4cb74-db9b-4bcf-95f3-16a6082c737f",
   "metadata": {
    "jp-MarkdownHeadingCollapsed": true
   },
   "source": [
    "# Закомментированный код"
   ]
  },
  {
   "cell_type": "code",
   "execution_count": null,
   "id": "5f5e803e-cb72-48bb-90c2-40f3f6503c32",
   "metadata": {},
   "outputs": [],
   "source": [
    "# X_train_selected = pd.read_csv('rfe_train.csv')\n",
    "# X_test_selected = pd.read_csv('rfe_test.csv')"
   ]
  },
  {
   "cell_type": "code",
   "execution_count": null,
   "id": "f36d2bb5-d5c8-404f-8c9f-e443dcb931b8",
   "metadata": {},
   "outputs": [],
   "source": [
    "# X_train_selected.columns = np.arange(0, 26)\n",
    "# X_test_selected.columns = np.arange(0, 26)\n",
    "\n",
    "# X_train_selected = X_train_selected.drop(0, axis=1)\n",
    "# X_test_selected = X_test_selected.drop(0, axis=1)"
   ]
  },
  {
   "cell_type": "code",
   "execution_count": null,
   "id": "a36eafb5-9460-4753-b153-d4a622b68664",
   "metadata": {},
   "outputs": [],
   "source": [
    "# scaler = StandardScaler()\n",
    "# X_train_scaled = scaler.fit_transform(X_train)\n",
    "# X_test_scaled = scaler.transform(X_test)\n",
    "\n",
    "# pca = PCA(n_components=389)\n",
    "# X_train_pca = pca.fit_transform(X_train_scaled)\n",
    "# X_test_pca = pca.transform(X_test_scaled)\n",
    "\n",
    "# model = model_lgb = lgb.LGBMClassifier(random_state=42)\n",
    "\n",
    "# rfe = RFE(estimator=model, n_features_to_select=25)\n",
    "# rfe.fit(X_train, y_train)\n",
    "# selected_feature_indices = rfe.get_support(indices=True)\n",
    "\n",
    "# X_train_selected = X_train[:, selected_feature_indices]\n",
    "# X_test_selected = X_test[:, selected_feature_indices]"
   ]
  },
  {
   "cell_type": "code",
   "execution_count": null,
   "id": "2034d4e9-1fd6-4409-9e9e-b34700fed4b7",
   "metadata": {},
   "outputs": [],
   "source": [
    "# rfe = RFE(estimator=model, n_features_to_select=25, step=10)\n",
    "# rfe.fit(X_train, y_train)\n",
    "# selected_feature_indices = rfe.get_support(indices=True)\n",
    "\n",
    "# X_train_selected = X_train[:, selected_feature_indices]\n",
    "# X_test_selected = X_test[:, selected_feature_indices]"
   ]
  },
  {
   "cell_type": "code",
   "execution_count": null,
   "id": "0a302a93-56f7-4313-9006-daf8ed4daef2",
   "metadata": {},
   "outputs": [],
   "source": [
    "# model.fit(X_train_selected, y_train)\n",
    "\n",
    "# y_pred = model.predict_proba(X_test_selected)[:, 1]\n",
    "\n",
    "# roc_auc = roc_auc_score(y_val, y_pred)\n",
    "\n",
    "# n_features_list.append(n_features_to_select)\n",
    "# roc_auc_list.append(roc_auc)\n",
    "\n",
    "# print(f\"Количество признаков: {n_features_to_select}, ROC-AUC: {roc_auc}\")"
   ]
  },
  {
   "cell_type": "code",
   "execution_count": null,
   "id": "dd5ddda3-01db-474f-9254-fb8fe8b36884",
   "metadata": {},
   "outputs": [],
   "source": [
    "#Количество признаков: 25, ROC-AUC: 0.8008241473752848 - оптимум"
   ]
  }
 ],
 "metadata": {
  "kernelspec": {
   "display_name": "Python 3 (ipykernel)",
   "language": "python",
   "name": "python3"
  },
  "language_info": {
   "codemirror_mode": {
    "name": "ipython",
    "version": 3
   },
   "file_extension": ".py",
   "mimetype": "text/x-python",
   "name": "python",
   "nbconvert_exporter": "python",
   "pygments_lexer": "ipython3",
   "version": "3.12.7"
  }
 },
 "nbformat": 4,
 "nbformat_minor": 5
}
