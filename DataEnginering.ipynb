{
 "cells": [
  {
   "cell_type": "code",
   "execution_count": 1,
   "id": "7744191c-0aca-4f4e-b0bf-f8df699276e8",
   "metadata": {},
   "outputs": [],
   "source": [
    "import pandas as pd\n",
    "import numpy as np \n",
    "import matplotlib.pyplot as plt\n",
    "from sklearn.decomposition import PCA\n",
    "from sklearn.preprocessing import StandardScaler\n",
    "from sklearn.model_selection import train_test_split"
   ]
  },
  {
   "cell_type": "code",
   "execution_count": null,
   "id": "5b63c9ab-1860-487d-8cc3-a46f682c4658",
   "metadata": {},
   "outputs": [],
   "source": [
    "train_data = pd.read_csv('train_1.csv')\n",
    "test_data = pd.read_csv('test_1.csv')"
   ]
  },
  {
   "cell_type": "code",
   "execution_count": null,
   "id": "1f5bef88-85ce-4fa9-8742-9d27c52a1f07",
   "metadata": {},
   "outputs": [],
   "source": [
    "train_data"
   ]
  },
  {
   "cell_type": "code",
   "execution_count": null,
   "id": "44451b3c-ac3c-4762-beae-985cd2134540",
   "metadata": {},
   "outputs": [],
   "source": [
    "#PCA"
   ]
  },
  {
   "cell_type": "code",
   "execution_count": null,
   "id": "bd0e6496-2936-46a8-b2c8-f7a1d4101c3d",
   "metadata": {},
   "outputs": [],
   "source": [
    "X = train_data.drop(columns=['id', 'smpl', 'target']).values\n",
    "y = train_data['target'].values\n",
    "\n",
    "X_train, X_val, y_train, y_val = train_test_split(X, y, test_size=0.2, random_state=42)\n",
    "\n",
    "scaler = StandardScaler()\n",
    "X_train_scaled = scaler.fit_transform(X_train)\n",
    "X_val_scaled = scaler.transform(X_val)\n",
    "X_test_scaled = scaler.transform(test_data.drop(columns=['id', 'smpl']).values)\n",
    "\n",
    "# Применение PCA\n",
    "pca = PCA()\n",
    "X_train_pca = pca.fit_transform(X_train_scaled)\n",
    "\n",
    "# Вычисление доли объясненной дисперсии для каждой компоненты\n",
    "explained_variance_ratio = pca.explained_variance_ratio_\n",
    "cumulative_explained_variance = explained_variance_ratio.cumsum()\n",
    "\n",
    "# График доли объясненной дисперсии\n",
    "plt.figure(figsize=(10, 6))\n",
    "plt.plot(range(1, len(cumulative_explained_variance) + 1), cumulative_explained_variance, marker='o', linestyle='--')\n",
    "plt.xlabel('Количество компонент')\n",
    "plt.ylabel('Доля объясненной дисперсии')\n",
    "plt.title('Доля объясненной дисперсии в зависимости от количества компонент')\n",
    "plt.grid(True)\n",
    "plt.show()\n",
    "\n",
    "# Выбор количества компонент, которые сохраняют 95% информации\n",
    "n_components = (cumulative_explained_variance < 0.95).sum() + 1\n",
    "print(f'Количество компонент, сохраняющих 95% информации: {n_components}')\n",
    "\n",
    "# # Применение PCA с выбранным количеством компонент\n",
    "# pca = PCA(n_components=n_components)\n",
    "# X_train_pca = pca.fit_transform(X_train_scaled)\n",
    "# X_val_pca = pca.transform(X_val_scaled)\n",
    "# X_test_pca = pca.transform(X_test_scaled)\n",
    "\n",
    "# # Преобразование данных в тензоры PyTorch\n",
    "# X_train_tensor = torch.tensor(X_train_pca, dtype=torch.float32)\n",
    "# X_val_tensor = torch.tensor(X_val_pca, dtype=torch.float32)\n",
    "# X_test_tensor = torch.tensor(X_test_pca, dtype=torch.float32)\n",
    "\n",
    "# train_dataset = TensorDataset(X_train_tensor, y_train_tensor)\n",
    "# train_loader = DataLoader(train_dataset, batch_size=32, shuffle=True)\n",
    "\n",
    "# val_dataset = TensorDataset(X_val_tensor, y_val_tensor)\n",
    "# val_loader = DataLoader(val_dataset, batch_size=32, shuffle=False)"
   ]
  },
  {
   "cell_type": "code",
   "execution_count": null,
   "id": "347248cf-0938-4f25-885d-92bde3d7e00f",
   "metadata": {},
   "outputs": [],
   "source": []
  }
 ],
 "metadata": {
  "kernelspec": {
   "display_name": "Python 3 (ipykernel)",
   "language": "python",
   "name": "python3"
  },
  "language_info": {
   "codemirror_mode": {
    "name": "ipython",
    "version": 3
   },
   "file_extension": ".py",
   "mimetype": "text/x-python",
   "name": "python",
   "nbconvert_exporter": "python",
   "pygments_lexer": "ipython3",
   "version": "3.12.5"
  }
 },
 "nbformat": 4,
 "nbformat_minor": 5
}
