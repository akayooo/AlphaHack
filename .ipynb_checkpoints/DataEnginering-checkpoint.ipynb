{
 "cells": [
  {
   "cell_type": "markdown",
   "id": "a857f3df-f8c5-470e-acf0-233d5b14b129",
   "metadata": {},
   "source": [
    "# Импорты"
   ]
  },
  {
   "cell_type": "code",
   "execution_count": 1,
   "id": "7744191c-0aca-4f4e-b0bf-f8df699276e8",
   "metadata": {},
   "outputs": [],
   "source": [
    "import pandas as pd\n",
    "import numpy as np \n",
    "import matplotlib.pyplot as plt\n",
    "from sklearn.decomposition import PCA\n",
    "from sklearn.preprocessing import StandardScaler\n",
    "from sklearn.model_selection import train_test_split\n",
    "from sklearn.feature_selection import RFE\n",
    "from sklearn.ensemble import RandomForestClassifier\n",
    "from sklearn.metrics import accuracy_score, roc_auc_score\n",
    "from tqdm import tqdm\n",
    "import lightgbm as lgb \n",
    "import optuna\n",
    "import featuretools as ft\n",
    "from sklearn.preprocessing import PolynomialFeatures\n",
    "import seaborn as sns"
   ]
  },
  {
   "cell_type": "markdown",
   "id": "60aa4b5b-ab03-4316-9147-4bc87c498790",
   "metadata": {},
   "source": [
    "# Импорт данных"
   ]
  },
  {
   "cell_type": "code",
   "execution_count": 2,
   "id": "5b63c9ab-1860-487d-8cc3-a46f682c4658",
   "metadata": {},
   "outputs": [],
   "source": [
    "data = pd.read_csv(\"train_1.csv\")"
   ]
  },
  {
   "cell_type": "code",
   "execution_count": 3,
   "id": "1f5bef88-85ce-4fa9-8742-9d27c52a1f07",
   "metadata": {},
   "outputs": [],
   "source": [
    "data = data.sort_values(by='target', ascending=False)"
   ]
  },
  {
   "cell_type": "code",
   "execution_count": 4,
   "id": "e0497142-7a79-4ddf-aac0-856cfa9efa12",
   "metadata": {},
   "outputs": [
    {
     "data": {
      "text/plain": [
       "<Axes: xlabel='target', ylabel='count'>"
      ]
     },
     "execution_count": 4,
     "metadata": {},
     "output_type": "execute_result"
    },
    {
     "data": {
      "image/png": "[encoded data removed]",
      "text/plain": [
       "<Figure size 640x480 with 1 Axes>"
      ]
     },
     "metadata": {},
     "output_type": "display_data"
    }
   ],
   "source": [
    "sns.countplot(data=data, x='target', hue='target')"
   ]
  },
  {
   "cell_type": "code",
   "execution_count": null,
   "id": "7756502e-f10f-4f90-bdc7-414f1a96cb96",
   "metadata": {},
   "outputs": [],
   "source": [
    "X = data.drop(columns=['id', 'smpl', 'target']).values\n",
    "y = data['target'].values\n",
    "\n",
    "X_train, X_test, y_train, y_test = train_test_split(X, y, test_size=0.2, random_state=42, stratify=y)"
   ]
  },
  {
   "cell_type": "markdown",
   "id": "db68d0d3-f78f-4f76-be6d-62075a65573c",
   "metadata": {
    "jp-MarkdownHeadingCollapsed": true
   },
   "source": [
    "# Функции для препарейшна и идеи"
   ]
  },
  {
   "cell_type": "code",
   "execution_count": null,
   "id": "44451b3c-ac3c-4762-beae-985cd2134540",
   "metadata": {},
   "outputs": [],
   "source": [
    "#PCA + RFE -> 76% (Следует сначала сгенирировать фичи, а затем отобрать) пробуем и featuretools и tsfresh"
   ]
  },
  {
   "cell_type": "code",
   "execution_count": null,
   "id": "bd0e6496-2936-46a8-b2c8-f7a1d4101c3d",
   "metadata": {},
   "outputs": [],
   "source": [
    "def data_preparation(data):\n",
    "    X = data.drop(columns=['id', 'smpl', 'target']).values\n",
    "    y = data['target'].values\n",
    "\n",
    "    X_train, X_test, y_train, y_test = train_test_split(X, y, test_size=0.2, random_state=42)\n",
    "\n",
    "    scaler = StandardScaler()\n",
    "    X_train_scaled = scaler.fit_transform(X_train)\n",
    "    X_test_scaled = scaler.transform(X_test)\n",
    "\n",
    "    pca = PCA(n_components=389)\n",
    "    X_train_pca = pca.fit_transform(X_train_scaled)\n",
    "    X_test_pca = pca.transform(X_test_scaled)\n",
    "\n",
    "    model = model_lgb = lgb.LGBMClassifier(random_state=42)\n",
    "    \n",
    "    rfe = RFE(estimator=model, n_features_to_select=25)\n",
    "    rfe.fit(X_train, y_train)\n",
    "    selected_feature_indices = rfe.get_support(indices=True)\n",
    "\n",
    "    X_train_selected = X_train[:, selected_feature_indices]\n",
    "    X_test_selected = X_test[:, selected_feature_indices]\n",
    "\n",
    "    return X_train_selected, X_test_selected\n",
    "\n",
    "def data_preparation(data):\n",
    "    X = data.drop(columns=['id', 'smpl', 'target']).values\n",
    "    y = data['target'].values\n",
    "\n",
    "    X_train, X_test, y_train, y_test = train_test_split(X, y, test_size=0.2, random_state=42)\n",
    "\n",
    "    scaler = StandardScaler()\n",
    "    X_train_scaled = scaler.fit_transform(X_train)\n",
    "    X_test_scaled = scaler.transform(X_test)\n",
    "\n",
    "    pca = PCA(n_components=389)\n",
    "    X_train_pca = pca.fit_transform(X_train_scaled)\n",
    "    X_test_pca = pca.transform(X_test_scaled)\n",
    "\n",
    "    return pca\n",
    "\n",
    "def pca_vizualization(pca):\n",
    "    explained_variance_ratio = pca.explained_variance_ratio_\n",
    "    cumulative_explained_variance = explained_variance_ratio.cumsum()\n",
    "    \n",
    "    plt.figure(figsize=(10, 6))\n",
    "    plt.plot(range(1, len(cumulative_explained_variance) + 1), cumulative_explained_variance, marker='o', linestyle='--')\n",
    "    plt.xlabel('Количество компонент')\n",
    "    plt.ylabel('Доля объясненной дисперсии')\n",
    "    plt.title('Доля объясненной дисперсии в зависимости от количества компонент')\n",
    "    plt.grid(True)\n",
    "    plt.show()\n",
    "    \n",
    "    n_components = (cumulative_explained_variance < 0.95).sum() + 1\n",
    "    print(f'Количество компонент, сохраняющих 95% информации: {n_components}')"
   ]
  },
  {
   "cell_type": "code",
   "execution_count": null,
   "id": "73e9efbe-a07c-4f71-9104-4f4770378497",
   "metadata": {},
   "outputs": [],
   "source": [
    "def data_for_lgb(train_data, test_data):\n",
    "    train_data = lgb.Dataset(\n",
    "        X_train_selected,\n",
    "        y_train,\n",
    "        free_raw_data=False,\n",
    "    )\n",
    "    test_data = lgb.Dataset(\n",
    "        X_test_selected,\n",
    "        y_test,\n",
    "        free_raw_data=False,\n",
    "    )"
   ]
  },
  {
   "cell_type": "markdown",
   "id": "976b9ba4-34c2-493d-a9da-2a50a6ba4ccd",
   "metadata": {
    "jp-MarkdownHeadingCollapsed": true
   },
   "source": [
    "# Генерация фичей и идеи"
   ]
  },
  {
   "cell_type": "markdown",
   "id": "417d3a79-67c5-49bd-b4a6-06da419051f6",
   "metadata": {},
   "source": [
    "### featuretools"
   ]
  },
  {
   "cell_type": "code",
   "execution_count": null,
   "id": "86bc9abe-9824-4427-b41f-c985e1629cdc",
   "metadata": {},
   "outputs": [],
   "source": [
    "# es = ft.EntitySet(id='data')\n",
    "# es = es.add_dataframe(dataframe_name='transactions', dataframe=data, index='id')\n",
    "\n",
    "# agg_primitives = [\"sum\", \"mean\", \"median\", \"std\", \"max\", \"min\"]\n",
    "# trans_primitives = [\"add_numeric\", \"multiply_numeric\", \"divide_numeric\", \"subtract_numeric\"]\n",
    "\n",
    "# feature_matrix, feature_defs = ft.dfs(\n",
    "#     entityset=es,\n",
    "#     target_dataframe_name='transactions',\n",
    "#     max_depth=2,\n",
    "#     agg_primitives=agg_primitives,\n",
    "#     trans_primitives=trans_primitives\n",
    "# )\n",
    "\n",
    "# print(feature_matrix.head())\n",
    "\n",
    "#Способ ничего не дал ("
   ]
  },
  {
   "cell_type": "markdown",
   "id": "98a8a145-90a9-4779-9125-b01ab3876091",
   "metadata": {},
   "source": [
    "### tsfresh"
   ]
  },
  {
   "cell_type": "code",
   "execution_count": null,
   "id": "a7013933-7d76-424a-a209-7ae813e7a507",
   "metadata": {},
   "outputs": [],
   "source": [
    "# features = extract_features(data, column_id=\"id\", impute_function=impute)\n",
    "# print(features.head())\n",
    "\n",
    "#Это вообще не запустилось"
   ]
  },
  {
   "cell_type": "markdown",
   "id": "aa83b8fd-d409-430d-9768-57f0008a113b",
   "metadata": {},
   "source": [
    "### poly features - generation + selection"
   ]
  },
  {
   "cell_type": "code",
   "execution_count": 13,
   "id": "15d1bcec-20e1-4e48-a825-51ee85783caa",
   "metadata": {},
   "outputs": [],
   "source": [
    "# # Генерация полиномиальных признаков по частям\n",
    "# poly = PolynomialFeatures(degree=2, interaction_only=False, include_bias=False)\n",
    "\n",
    "# def generate_poly_features(X, poly, batch_size=1000):\n",
    "#     num_samples = X.shape[0]\n",
    "#     poly_features = []\n",
    "#     for i in tqdm(range(0, num_samples, batch_size)):\n",
    "#         batch = X[i:i + batch_size]\n",
    "#         poly_batch = poly.fit_transform(batch)\n",
    "#         poly_features.append(poly_batch)\n",
    "#     return np.vstack(poly_features)"
   ]
  },
  {
   "cell_type": "markdown",
   "id": "a5c617cd-fd6f-4356-af4f-d9684661114e",
   "metadata": {},
   "source": [
    "# Отбор фичей и идеи"
   ]
  },
  {
   "cell_type": "markdown",
   "id": "862c0d22-6b43-402f-96a6-5622edaec272",
   "metadata": {},
   "source": [
    "### RFE"
   ]
  },
  {
   "cell_type": "code",
   "execution_count": null,
   "id": "04b5e0c6-a8c9-41f4-b3dc-393094961d76",
   "metadata": {},
   "outputs": [],
   "source": [
    "#Попробовать побороть дизбалнас данных или попробовать синтезировать меньший класс"
   ]
  },
  {
   "cell_type": "code",
   "execution_count": 7,
   "id": "e53014ff-7e78-465a-b727-4e40c38b4e3f",
   "metadata": {},
   "outputs": [
    {
     "name": "stderr",
     "output_type": "stream",
     "text": [
      "100%|██████████| 39/39 [1:28:42<00:00, 136.47s/it]\n"
     ]
    },
    {
     "data": {
      "image/png": "[encoded data removed]",
      "text/plain": [
       "<Figure size 1000x600 with 1 Axes>"
      ]
     },
     "metadata": {},
     "output_type": "display_data"
    }
   ],
   "source": [
    "model = model_lgb = lgb.LGBMClassifier(random_state=42, verbose=-1)\n",
    "\n",
    "scores = []\n",
    "n_features = []\n",
    "\n",
    "for n in tqdm(range(20, 401, 10)):\n",
    "    rfe = RFE(model, n_features_to_select=n, step=30)\n",
    "    \n",
    "    X_train_rfe = rfe.fit_transform(X_train, y_train)\n",
    "    X_test_rfe = rfe.transform(X_test)\n",
    "    \n",
    "    model.fit(X_train_rfe, y_train)\n",
    "    \n",
    "    y_pred = model.predict(X_test_rfe)\n",
    "    \n",
    "    accuracy = roc_auc_score(y_test, y_pred)\n",
    "    \n",
    "    scores.append(accuracy)\n",
    "    n_features.append(n)\n",
    "\n",
    "# Построение графика\n",
    "plt.figure(figsize=(10, 6))\n",
    "plt.plot(n_features, scores, marker='o')\n",
    "plt.xlabel('Number of Features')\n",
    "plt.ylabel('ROC_AUC')\n",
    "plt.title('ROC_AUC vs Number of Features')\n",
    "plt.grid(True)\n",
    "plt.show()"
   ]
  },
  {
   "cell_type": "markdown",
   "id": "e386721b-8aad-4ea2-a3b6-d59a0c6687aa",
   "metadata": {},
   "source": [
    "### RFE TEST"
   ]
  },
  {
   "cell_type": "code",
   "execution_count": 8,
   "id": "b6252465-c78e-41ca-aeb3-a80e0fae159b",
   "metadata": {},
   "outputs": [
    {
     "ename": "KeyboardInterrupt",
     "evalue": "",
     "output_type": "error",
     "traceback": [
      "\u001b[0;31m---------------------------------------------------------------------------\u001b[0m",
      "\u001b[0;31mKeyboardInterrupt\u001b[0m                         Traceback (most recent call last)",
      "Cell \u001b[0;32mIn[8], line 4\u001b[0m\n\u001b[1;32m      1\u001b[0m model \u001b[38;5;241m=\u001b[39m model_lgb \u001b[38;5;241m=\u001b[39m lgb\u001b[38;5;241m.\u001b[39mLGBMClassifier(random_state\u001b[38;5;241m=\u001b[39m\u001b[38;5;241m42\u001b[39m)\n\u001b[1;32m      3\u001b[0m rfe \u001b[38;5;241m=\u001b[39m RFE(estimator\u001b[38;5;241m=\u001b[39mmodel, n_features_to_select\u001b[38;5;241m=\u001b[39m\u001b[38;5;241m20\u001b[39m)\n\u001b[0;32m----> 4\u001b[0m \u001b[43mrfe\u001b[49m\u001b[38;5;241;43m.\u001b[39;49m\u001b[43mfit\u001b[49m\u001b[43m(\u001b[49m\u001b[43mX_train\u001b[49m\u001b[43m,\u001b[49m\u001b[43m \u001b[49m\u001b[43my_train\u001b[49m\u001b[43m)\u001b[49m\n\u001b[1;32m      5\u001b[0m \u001b[38;5;28mprint\u001b[39m(\u001b[38;5;124m\"\u001b[39m\u001b[38;5;124mОбучен RFE\u001b[39m\u001b[38;5;124m\"\u001b[39m)\n\u001b[1;32m      7\u001b[0m selected_feature_indices \u001b[38;5;241m=\u001b[39m rfe\u001b[38;5;241m.\u001b[39mget_support(indices\u001b[38;5;241m=\u001b[39m\u001b[38;5;28;01mTrue\u001b[39;00m)\n",
      "File \u001b[0;32m~/.config/jupyterlab-desktop/jlab_server/lib/python3.12/site-packages/sklearn/base.py:1473\u001b[0m, in \u001b[0;36m_fit_context.<locals>.decorator.<locals>.wrapper\u001b[0;34m(estimator, *args, **kwargs)\u001b[0m\n\u001b[1;32m   1466\u001b[0m     estimator\u001b[38;5;241m.\u001b[39m_validate_params()\n\u001b[1;32m   1468\u001b[0m \u001b[38;5;28;01mwith\u001b[39;00m config_context(\n\u001b[1;32m   1469\u001b[0m     skip_parameter_validation\u001b[38;5;241m=\u001b[39m(\n\u001b[1;32m   1470\u001b[0m         prefer_skip_nested_validation \u001b[38;5;129;01mor\u001b[39;00m global_skip_validation\n\u001b[1;32m   1471\u001b[0m     )\n\u001b[1;32m   1472\u001b[0m ):\n\u001b[0;32m-> 1473\u001b[0m     \u001b[38;5;28;01mreturn\u001b[39;00m \u001b[43mfit_method\u001b[49m\u001b[43m(\u001b[49m\u001b[43mestimator\u001b[49m\u001b[43m,\u001b[49m\u001b[43m \u001b[49m\u001b[38;5;241;43m*\u001b[39;49m\u001b[43margs\u001b[49m\u001b[43m,\u001b[49m\u001b[43m \u001b[49m\u001b[38;5;241;43m*\u001b[39;49m\u001b[38;5;241;43m*\u001b[39;49m\u001b[43mkwargs\u001b[49m\u001b[43m)\u001b[49m\n",
      "File \u001b[0;32m~/.config/jupyterlab-desktop/jlab_server/lib/python3.12/site-packages/sklearn/feature_selection/_rfe.py:268\u001b[0m, in \u001b[0;36mRFE.fit\u001b[0;34m(self, X, y, **fit_params)\u001b[0m\n\u001b[1;32m    248\u001b[0m \u001b[38;5;250m\u001b[39m\u001b[38;5;124;03m\"\"\"Fit the RFE model and then the underlying estimator on the selected features.\u001b[39;00m\n\u001b[1;32m    249\u001b[0m \n\u001b[1;32m    250\u001b[0m \u001b[38;5;124;03mParameters\u001b[39;00m\n\u001b[0;32m   (...)\u001b[0m\n\u001b[1;32m    265\u001b[0m \u001b[38;5;124;03m    Fitted estimator.\u001b[39;00m\n\u001b[1;32m    266\u001b[0m \u001b[38;5;124;03m\"\"\"\u001b[39;00m\n\u001b[1;32m    267\u001b[0m _raise_for_unsupported_routing(\u001b[38;5;28mself\u001b[39m, \u001b[38;5;124m\"\u001b[39m\u001b[38;5;124mfit\u001b[39m\u001b[38;5;124m\"\u001b[39m, \u001b[38;5;241m*\u001b[39m\u001b[38;5;241m*\u001b[39mfit_params)\n\u001b[0;32m--> 268\u001b[0m \u001b[38;5;28;01mreturn\u001b[39;00m \u001b[38;5;28;43mself\u001b[39;49m\u001b[38;5;241;43m.\u001b[39;49m\u001b[43m_fit\u001b[49m\u001b[43m(\u001b[49m\u001b[43mX\u001b[49m\u001b[43m,\u001b[49m\u001b[43m \u001b[49m\u001b[43my\u001b[49m\u001b[43m,\u001b[49m\u001b[43m \u001b[49m\u001b[38;5;241;43m*\u001b[39;49m\u001b[38;5;241;43m*\u001b[39;49m\u001b[43mfit_params\u001b[49m\u001b[43m)\u001b[49m\n",
      "File \u001b[0;32m~/.config/jupyterlab-desktop/jlab_server/lib/python3.12/site-packages/sklearn/feature_selection/_rfe.py:323\u001b[0m, in \u001b[0;36mRFE._fit\u001b[0;34m(self, X, y, step_score, **fit_params)\u001b[0m\n\u001b[1;32m    320\u001b[0m \u001b[38;5;28;01mif\u001b[39;00m \u001b[38;5;28mself\u001b[39m\u001b[38;5;241m.\u001b[39mverbose \u001b[38;5;241m>\u001b[39m \u001b[38;5;241m0\u001b[39m:\n\u001b[1;32m    321\u001b[0m     \u001b[38;5;28mprint\u001b[39m(\u001b[38;5;124m\"\u001b[39m\u001b[38;5;124mFitting estimator with \u001b[39m\u001b[38;5;132;01m%d\u001b[39;00m\u001b[38;5;124m features.\u001b[39m\u001b[38;5;124m\"\u001b[39m \u001b[38;5;241m%\u001b[39m np\u001b[38;5;241m.\u001b[39msum(support_))\n\u001b[0;32m--> 323\u001b[0m \u001b[43mestimator\u001b[49m\u001b[38;5;241;43m.\u001b[39;49m\u001b[43mfit\u001b[49m\u001b[43m(\u001b[49m\u001b[43mX\u001b[49m\u001b[43m[\u001b[49m\u001b[43m:\u001b[49m\u001b[43m,\u001b[49m\u001b[43m \u001b[49m\u001b[43mfeatures\u001b[49m\u001b[43m]\u001b[49m\u001b[43m,\u001b[49m\u001b[43m \u001b[49m\u001b[43my\u001b[49m\u001b[43m,\u001b[49m\u001b[43m \u001b[49m\u001b[38;5;241;43m*\u001b[39;49m\u001b[38;5;241;43m*\u001b[39;49m\u001b[43mfit_params\u001b[49m\u001b[43m)\u001b[49m\n\u001b[1;32m    325\u001b[0m \u001b[38;5;66;03m# Get importance and rank them\u001b[39;00m\n\u001b[1;32m    326\u001b[0m importances \u001b[38;5;241m=\u001b[39m _get_feature_importances(\n\u001b[1;32m    327\u001b[0m     estimator,\n\u001b[1;32m    328\u001b[0m     \u001b[38;5;28mself\u001b[39m\u001b[38;5;241m.\u001b[39mimportance_getter,\n\u001b[1;32m    329\u001b[0m     transform_func\u001b[38;5;241m=\u001b[39m\u001b[38;5;124m\"\u001b[39m\u001b[38;5;124msquare\u001b[39m\u001b[38;5;124m\"\u001b[39m,\n\u001b[1;32m    330\u001b[0m )\n",
      "File \u001b[0;32m~/.config/jupyterlab-desktop/jlab_server/lib/python3.12/site-packages/lightgbm/sklearn.py:1218\u001b[0m, in \u001b[0;36mLGBMClassifier.fit\u001b[0;34m(self, X, y, sample_weight, init_score, eval_set, eval_names, eval_sample_weight, eval_class_weight, eval_init_score, eval_metric, feature_name, categorical_feature, callbacks, init_model)\u001b[0m\n\u001b[1;32m   1215\u001b[0m \u001b[38;5;28;01mclass\u001b[39;00m \u001b[38;5;21;01mLGBMClassifier\u001b[39;00m(_LGBMClassifierBase, LGBMModel):\n\u001b[1;32m   1216\u001b[0m \u001b[38;5;250m    \u001b[39m\u001b[38;5;124;03m\"\"\"LightGBM classifier.\"\"\"\u001b[39;00m\n\u001b[0;32m-> 1218\u001b[0m     \u001b[38;5;28;01mdef\u001b[39;00m \u001b[38;5;21mfit\u001b[39m(  \u001b[38;5;66;03m# type: ignore[override]\u001b[39;00m\n\u001b[1;32m   1219\u001b[0m         \u001b[38;5;28mself\u001b[39m,\n\u001b[1;32m   1220\u001b[0m         X: _LGBM_ScikitMatrixLike,\n\u001b[1;32m   1221\u001b[0m         y: _LGBM_LabelType,\n\u001b[1;32m   1222\u001b[0m         sample_weight: Optional[_LGBM_WeightType] \u001b[38;5;241m=\u001b[39m \u001b[38;5;28;01mNone\u001b[39;00m,\n\u001b[1;32m   1223\u001b[0m         init_score: Optional[_LGBM_InitScoreType] \u001b[38;5;241m=\u001b[39m \u001b[38;5;28;01mNone\u001b[39;00m,\n\u001b[1;32m   1224\u001b[0m         eval_set: Optional[List[_LGBM_ScikitValidSet]] \u001b[38;5;241m=\u001b[39m \u001b[38;5;28;01mNone\u001b[39;00m,\n\u001b[1;32m   1225\u001b[0m         eval_names: Optional[List[\u001b[38;5;28mstr\u001b[39m]] \u001b[38;5;241m=\u001b[39m \u001b[38;5;28;01mNone\u001b[39;00m,\n\u001b[1;32m   1226\u001b[0m         eval_sample_weight: Optional[List[_LGBM_WeightType]] \u001b[38;5;241m=\u001b[39m \u001b[38;5;28;01mNone\u001b[39;00m,\n\u001b[1;32m   1227\u001b[0m         eval_class_weight: Optional[List[\u001b[38;5;28mfloat\u001b[39m]] \u001b[38;5;241m=\u001b[39m \u001b[38;5;28;01mNone\u001b[39;00m,\n\u001b[1;32m   1228\u001b[0m         eval_init_score: Optional[List[_LGBM_InitScoreType]] \u001b[38;5;241m=\u001b[39m \u001b[38;5;28;01mNone\u001b[39;00m,\n\u001b[1;32m   1229\u001b[0m         eval_metric: Optional[_LGBM_ScikitEvalMetricType] \u001b[38;5;241m=\u001b[39m \u001b[38;5;28;01mNone\u001b[39;00m,\n\u001b[1;32m   1230\u001b[0m         feature_name: _LGBM_FeatureNameConfiguration \u001b[38;5;241m=\u001b[39m \u001b[38;5;124m\"\u001b[39m\u001b[38;5;124mauto\u001b[39m\u001b[38;5;124m\"\u001b[39m,\n\u001b[1;32m   1231\u001b[0m         categorical_feature: _LGBM_CategoricalFeatureConfiguration \u001b[38;5;241m=\u001b[39m \u001b[38;5;124m\"\u001b[39m\u001b[38;5;124mauto\u001b[39m\u001b[38;5;124m\"\u001b[39m,\n\u001b[1;32m   1232\u001b[0m         callbacks: Optional[List[Callable]] \u001b[38;5;241m=\u001b[39m \u001b[38;5;28;01mNone\u001b[39;00m,\n\u001b[1;32m   1233\u001b[0m         init_model: Optional[Union[\u001b[38;5;28mstr\u001b[39m, Path, Booster, LGBMModel]] \u001b[38;5;241m=\u001b[39m \u001b[38;5;28;01mNone\u001b[39;00m,\n\u001b[1;32m   1234\u001b[0m     ) \u001b[38;5;241m-\u001b[39m\u001b[38;5;241m>\u001b[39m \u001b[38;5;124m\"\u001b[39m\u001b[38;5;124mLGBMClassifier\u001b[39m\u001b[38;5;124m\"\u001b[39m:\n\u001b[1;32m   1235\u001b[0m \u001b[38;5;250m        \u001b[39m\u001b[38;5;124;03m\"\"\"Docstring is inherited from the LGBMModel.\"\"\"\u001b[39;00m\n\u001b[1;32m   1236\u001b[0m         _LGBMAssertAllFinite(y)\n",
      "\u001b[0;31mKeyboardInterrupt\u001b[0m: "
     ]
    }
   ],
   "source": [
    "model = model_lgb = lgb.LGBMClassifier(random_state=42)\n",
    "\n",
    "rfe = RFE(estimator=model, n_features_to_select=20)\n",
    "rfe.fit(X_train, y_train)\n",
    "print(\"Обучен RFE\")\n",
    "\n",
    "selected_feature_indices = rfe.get_support(indices=True)\n",
    "\n",
    "X_train_selected = X_train[:, selected_feature_indices]\n",
    "X_test_selected = X_test[:, selected_feature_indices]\n",
    "\n",
    "model.fit(X_train_selected, y_train)\n",
    "print(\"Модель обучена\")\n",
    "\n",
    "predictions = model.predict(X_test_selected)\n",
    "\n",
    "roc_auc = roc_auc_score(y_test, y_pred)\n",
    "\n",
    "print(f'ROC_AUC: {roc_auc}')"
   ]
  },
  {
   "cell_type": "markdown",
   "id": "139d18ff-3b28-4935-b33c-2e1762dbe99f",
   "metadata": {},
   "source": [
    "### PolyFeatures"
   ]
  },
  {
   "cell_type": "code",
   "execution_count": 99,
   "id": "6cb3e988-5a58-41d3-8491-bc77429e6239",
   "metadata": {},
   "outputs": [
    {
     "name": "stderr",
     "output_type": "stream",
     "text": [
      "Generating Polynomial Features: 100%|██████████| 16/16 [00:00<00:00, 382.48it/s]\n",
      "Generating Polynomial Features: 100%|██████████| 4/4 [00:00<00:00, 281.85it/s]\n"
     ]
    },
    {
     "name": "stdout",
     "output_type": "stream",
     "text": [
      "Размер X_train_selected: (16000, 20)\n",
      "Размер X_train_poly_df: (16000, 230)\n",
      "Размер X_test_selected: (4000, 20)\n",
      "Размер X_test_poly_df: (4000, 230)\n",
      "ROC AUC: 0.9206784512839801\n"
     ]
    }
   ],
   "source": [
    "poly = PolynomialFeatures(degree=2, interaction_only=False, include_bias=False)\n",
    "\n",
    "def generate_poly_features(X, poly, batch_size=1000):\n",
    "    num_samples = X.shape[0]\n",
    "    poly_features = []\n",
    "    for i in tqdm(range(0, num_samples, batch_size), desc=\"Generating Polynomial Features\"):\n",
    "        batch = X[i:i + batch_size]\n",
    "        poly_batch = poly.fit_transform(batch)\n",
    "        poly_features.append(poly_batch)\n",
    "    return np.vstack(poly_features)\n",
    "\n",
    "X_train_poly = generate_poly_features(X_train_selected, poly)\n",
    "X_test_poly = generate_poly_features(X_test_selected, poly)\n",
    "\n",
    "feature_names = poly.get_feature_names_out(pd.DataFrame(X_train_selected).columns.astype(str))\n",
    "\n",
    "X_train_poly_df = pd.DataFrame(X_train_poly, columns=feature_names)\n",
    "X_test_poly_df = pd.DataFrame(X_test_poly, columns=feature_names)\n",
    "\n",
    "print(f\"Размер X_train_selected: {X_train_selected.shape}\")\n",
    "print(f\"Размер X_train_poly_df: {X_train_poly_df.shape}\")\n",
    "print(f\"Размер X_test_selected: {X_test_selected.shape}\")\n",
    "print(f\"Размер X_test_poly_df: {X_test_poly_df.shape}\")\n",
    "\n",
    "model_lgbm = lgb.LGBMClassifier(n_estimators=100, random_state=42)\n",
    "model_lgbm.fit(X_train_poly_df, y_train)\n",
    "\n",
    "y_pred_proba = model_lgbm.predict_proba(X_test_poly_df)[:, 1]\n",
    "roc_auc = roc_auc_score(y_test, y_pred_proba)\n",
    "print(f\"ROC AUC: {roc_auc}\")"
   ]
  },
  {
   "cell_type": "code",
   "execution_count": 100,
   "id": "8d389520-b3c6-4fe9-9e40-8c4c0306258f",
   "metadata": {},
   "outputs": [
    {
     "name": "stdout",
     "output_type": "stream",
     "text": [
      "ROC AUC: 0.9206784512839801, i = 1\n",
      "ROC AUC: 0.9187515671033661, i = 2\n",
      "ROC AUC: 0.9214649412858607, i = 3\n",
      "ROC AUC: 0.9215494995716584, i = 4\n",
      "ROC AUC: 0.9209327791011095, i = 5\n",
      "ROC AUC: 0.9186418698677363, i = 6\n",
      "ROC AUC: 0.9209007840740508, i = 7\n",
      "ROC AUC: 0.9201240884682087, i = 8\n",
      "ROC AUC: 0.9229295299734637, i = 9\n",
      "ROC AUC: 0.9221655670824715, i = 10\n",
      "ROC AUC: 0.9227904495497189, i = 11\n",
      "ROC AUC: 0.9217695470026536, i = 12\n",
      "ROC AUC: 0.9217826061973716, i = 13\n",
      "ROC AUC: 0.9223591696441631, i = 14\n",
      "ROC AUC: 0.9215393786957521, i = 15\n",
      "ROC AUC: 0.9215974921122463, i = 16\n",
      "ROC AUC: 0.9222497988884013, i = 17\n",
      "ROC AUC: 0.9198661693725319, i = 18\n",
      "ROC AUC: 0.9201169059111138, i = 19\n",
      "ROC AUC: 0.9182608678618442, i = 20\n",
      "ROC AUC: 0.9219987358699513, i = 21\n",
      "ROC AUC: 0.9205534094945569, i = 22\n",
      "ROC AUC: 0.9200649956121105, i = 23\n",
      "ROC AUC: 0.9194838614471679, i = 24\n",
      "ROC AUC: 0.9188367783488999, i = 25\n",
      "ROC AUC: 0.9162468135564888, i = 26\n",
      "ROC AUC: 0.9066515702375728, i = 27\n",
      "ROC AUC: 0.9066515702375728, i = 28\n",
      "ROC AUC: 0.9066515702375728, i = 29\n",
      "ROC AUC: 0.9046639608015212, i = 30\n",
      "ROC AUC: 0.9045335320942769, i = 31\n",
      "ROC AUC: 0.9038902035144905, i = 32\n",
      "ROC AUC: 0.9038902035144905, i = 33\n",
      "ROC AUC: 0.9038902035144905, i = 34\n",
      "ROC AUC: 0.9038902035144905, i = 35\n",
      "ROC AUC: 0.9038902035144905, i = 36\n",
      "ROC AUC: 0.8938293999038843, i = 37\n",
      "0.9229295299734637 9\n"
     ]
    }
   ],
   "source": [
    "ffeature_importances = model_lgbm.feature_importances_\n",
    "feature_importance_df = pd.DataFrame({'feature': feature_names, 'importance': feature_importances})\n",
    "\n",
    "feature_importance_df = feature_importance_df.sort_values(by='importance', ascending=False)\n",
    "max_auc = 0\n",
    "max_i = 0\n",
    "\n",
    "for i in range(1, 100):\n",
    "    columns = np.array(feature_importance_df[feature_importance_df['importance'] > i]['feature'])\n",
    "    model = lgb.LGBMClassifier(n_estimators=100, random_state=42, verbose=-1)\n",
    "    \n",
    "    X_train_poly_df = X_train_poly_df[columns]\n",
    "    X_test_poly_df = X_test_poly_df[columns]\n",
    "    model.fit(X_train_poly_df, y_train)\n",
    "    \n",
    "    y_pred_proba = model.predict_proba(X_test_poly_df)[:, 1]\n",
    "    roc_auc = roc_auc_score(y_test, y_pred_proba)\n",
    "    print(f\"ROC AUC: {roc_auc}, i = {i}\")\n",
    "\n",
    "    if roc_auc < 0.9:\n",
    "        break\n",
    "        \n",
    "    if roc_auc > max_auc:\n",
    "        max_auc = roc_auc\n",
    "        max_i = i\n",
    "        \n",
    "\n",
    "print(max_auc, max_i)"
   ]
  },
  {
   "cell_type": "code",
   "execution_count": 101,
   "id": "752479be-9b68-4c4d-88e0-0f728a1bee58",
   "metadata": {},
   "outputs": [],
   "source": [
    "# Ура, выбили 0.92 - осталось сделать это все пайплайном и внести временную зависимость"
   ]
  },
  {
   "cell_type": "markdown",
   "id": "54e4cb74-db9b-4bcf-95f3-16a6082c737f",
   "metadata": {
    "jp-MarkdownHeadingCollapsed": true
   },
   "source": [
    "# Закомментированный код"
   ]
  },
  {
   "cell_type": "code",
   "execution_count": null,
   "id": "5f5e803e-cb72-48bb-90c2-40f3f6503c32",
   "metadata": {},
   "outputs": [],
   "source": [
    "# X_train_selected = pd.read_csv('rfe_train.csv')\n",
    "# X_test_selected = pd.read_csv('rfe_test.csv')"
   ]
  },
  {
   "cell_type": "code",
   "execution_count": null,
   "id": "f36d2bb5-d5c8-404f-8c9f-e443dcb931b8",
   "metadata": {},
   "outputs": [],
   "source": [
    "# X_train_selected.columns = np.arange(0, 26)\n",
    "# X_test_selected.columns = np.arange(0, 26)\n",
    "\n",
    "# X_train_selected = X_train_selected.drop(0, axis=1)\n",
    "# X_test_selected = X_test_selected.drop(0, axis=1)"
   ]
  },
  {
   "cell_type": "code",
   "execution_count": null,
   "id": "a36eafb5-9460-4753-b153-d4a622b68664",
   "metadata": {},
   "outputs": [],
   "source": [
    "# scaler = StandardScaler()\n",
    "# X_train_scaled = scaler.fit_transform(X_train)\n",
    "# X_test_scaled = scaler.transform(X_test)\n",
    "\n",
    "# pca = PCA(n_components=389)\n",
    "# X_train_pca = pca.fit_transform(X_train_scaled)\n",
    "# X_test_pca = pca.transform(X_test_scaled)\n",
    "\n",
    "# model = model_lgb = lgb.LGBMClassifier(random_state=42)\n",
    "\n",
    "# rfe = RFE(estimator=model, n_features_to_select=25)\n",
    "# rfe.fit(X_train, y_train)\n",
    "# selected_feature_indices = rfe.get_support(indices=True)\n",
    "\n",
    "# X_train_selected = X_train[:, selected_feature_indices]\n",
    "# X_test_selected = X_test[:, selected_feature_indices]"
   ]
  },
  {
   "cell_type": "code",
   "execution_count": null,
   "id": "2034d4e9-1fd6-4409-9e9e-b34700fed4b7",
   "metadata": {},
   "outputs": [],
   "source": [
    "# rfe = RFE(estimator=model, n_features_to_select=25, step=10)\n",
    "# rfe.fit(X_train, y_train)\n",
    "# selected_feature_indices = rfe.get_support(indices=True)\n",
    "\n",
    "# X_train_selected = X_train[:, selected_feature_indices]\n",
    "# X_test_selected = X_test[:, selected_feature_indices]"
   ]
  },
  {
   "cell_type": "code",
   "execution_count": null,
   "id": "0a302a93-56f7-4313-9006-daf8ed4daef2",
   "metadata": {},
   "outputs": [],
   "source": [
    "# model.fit(X_train_selected, y_train)\n",
    "\n",
    "# y_pred = model.predict_proba(X_test_selected)[:, 1]\n",
    "\n",
    "# roc_auc = roc_auc_score(y_val, y_pred)\n",
    "\n",
    "# n_features_list.append(n_features_to_select)\n",
    "# roc_auc_list.append(roc_auc)\n",
    "\n",
    "# print(f\"Количество признаков: {n_features_to_select}, ROC-AUC: {roc_auc}\")"
   ]
  },
  {
   "cell_type": "code",
   "execution_count": null,
   "id": "dd5ddda3-01db-474f-9254-fb8fe8b36884",
   "metadata": {},
   "outputs": [],
   "source": [
    "#Количество признаков: 25, ROC-AUC: 0.8008241473752848 - оптимум"
   ]
  }
 ],
 "metadata": {
  "kernelspec": {
   "display_name": "Python 3 (ipykernel)",
   "language": "python",
   "name": "python3"
  },
  "language_info": {
   "codemirror_mode": {
    "name": "ipython",
    "version": 3
   },
   "file_extension": ".py",
   "mimetype": "text/x-python",
   "name": "python",
   "nbconvert_exporter": "python",
   "pygments_lexer": "ipython3",
   "version": "3.12.5"
  }
 },
 "nbformat": 4,
 "nbformat_minor": 5
}
