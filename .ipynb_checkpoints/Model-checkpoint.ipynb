{
 "cells": [
  {
   "cell_type": "code",
   "execution_count": 5,
   "id": "7eca2e1a-1d8c-4337-99d1-fa953d98aba6",
   "metadata": {},
   "outputs": [],
   "source": [
    "import pandas as pd\n",
    "import numpy as np \n",
    "import matplotlib.pyplot as plt\n",
    "from sklearn.decomposition import PCA\n",
    "from sklearn.preprocessing import StandardScaler\n",
    "from sklearn.model_selection import train_test_split\n",
    "from sklearn.feature_selection import RFE\n",
    "from sklearn.ensemble import RandomForestClassifier\n",
    "from sklearn.metrics import accuracy_score, roc_auc_score\n",
    "from tqdm import tqdm\n",
    "import lightgbm as lgb \n",
    "import optuna"
   ]
  },
  {
   "cell_type": "code",
   "execution_count": 6,
   "id": "95fbde4d-2b07-4830-acb8-1f854ef718a5",
   "metadata": {},
   "outputs": [],
   "source": [
    "X_train_selected = pd.read_csv('rfe_train.csv')\n",
    "X_test_selected = pd.read_csv('rfe_test.csv')"
   ]
  },
  {
   "cell_type": "code",
   "execution_count": 7,
   "id": "3799cdc0-d70c-4029-97dd-ef9b6e3ac76b",
   "metadata": {},
   "outputs": [],
   "source": [
    "X_train_selected.columns = np.arange(0, 26)\n",
    "X_test_selected.columns = np.arange(0, 26)\n",
    "\n",
    "X_train_selected = X_train_selected.drop(0, axis=1)\n",
    "X_test_selected = X_test_selected.drop(0, axis=1)"
   ]
  },
  {
   "cell_type": "code",
   "execution_count": 9,
   "id": "5a588194-1bef-4d77-b3eb-856f6e49578b",
   "metadata": {},
   "outputs": [],
   "source": [
    "train_data = pd.read_csv('C:\\\\Users\\\\akayo\\\\Hacks\\\\Alpha_data\\\\train_1.csv')"
   ]
  },
  {
   "cell_type": "code",
   "execution_count": 17,
   "id": "cff50c04-c949-4434-9c51-1445b180d8a3",
   "metadata": {},
   "outputs": [],
   "source": [
    "X = train_data.drop(columns=['id', 'smpl', 'target']).values\n",
    "y = train_data['target'].values\n",
    "\n",
    "X_train, X_test, y_train, y_test = train_test_split(X, y, test_size=0.2, random_state=42)"
   ]
  },
  {
   "cell_type": "code",
   "execution_count": null,
   "id": "5f1b53dc-25c7-4886-b048-6ecba943f186",
   "metadata": {},
   "outputs": [],
   "source": [
    "def objective(trial):\n",
    "    params = {\n",
    "        'objective': 'binary',\n",
    "        'metric': 'auc',\n",
    "        'boosting_type': trial.suggest_categorical('boosting_type', ['gbdt', 'dart', 'goss']),\n",
    "        'num_leaves': trial.suggest_int('num_leaves', 15, 50),\n",
    "        'learning_rate': trial.suggest_loguniform('learning_rate', 0.01, 0.1),\n",
    "        'n_estimators': trial.suggest_int('n_estimators', 50, 200),\n",
    "        'max_depth': trial.suggest_int('max_depth', 3, 7),\n",
    "        'min_child_samples': trial.suggest_int('min_child_samples', 5, 15),\n",
    "        'subsample': trial.suggest_uniform('subsample', 0.8, 1.0),\n",
    "        'colsample_bytree': trial.suggest_uniform('colsample_bytree', 0.8, 1.0),\n",
    "        'reg_alpha': trial.suggest_loguniform('reg_alpha', 0.001, 0.05),\n",
    "        'reg_lambda': trial.suggest_loguniform('reg_lambda', 0.001, 0.05)\n",
    "    }\n",
    "\n",
    "    model = lgb.LGBMClassifier(**params)\n",
    "    model.fit(X_train_selected, y_train)\n",
    "    y_pred_proba = model.predict_proba(X_test_selected)[:, 1]\n",
    "    roc_auc = roc_auc_score(y_test, y_pred_proba)\n",
    "    return roc_auc"
   ]
  },
  {
   "cell_type": "code",
   "execution_count": null,
   "id": "c4d63766-cc0b-4536-bfa8-b963afb29ca2",
   "metadata": {},
   "outputs": [],
   "source": [
    "study = optuna.create_study(direction='maximize')\n",
    "study.optimize(objective, n_trials=100)\n",
    "\n",
    "best_params = study.best_params\n",
    "print(\"Best Parameters:\", best_params)"
   ]
  },
  {
   "cell_type": "code",
   "execution_count": 19,
   "id": "5a04a35a-ffcd-4f2b-b2ec-1ce7bd3c0ba9",
   "metadata": {},
   "outputs": [
    {
     "name": "stdout",
     "output_type": "stream",
     "text": [
      "[LightGBM] [Info] Number of positive: 4125, number of negative: 355111\n",
      "[LightGBM] [Info] Auto-choosing col-wise multi-threading, the overhead of testing was 0.385684 seconds.\n",
      "You can set `force_col_wise=true` to remove the overhead.\n",
      "[LightGBM] [Info] Total Bins 118911\n",
      "[LightGBM] [Info] Number of data points in the train set: 359236, number of used features: 500\n",
      "[LightGBM] [Info] [binary:BoostFromScore]: pavg=0.011483 -> initscore=-4.455364\n",
      "[LightGBM] [Info] Start training from score -4.455364\n",
      "ROC AUC with Best Parameters: 0.8203087274686309\n"
     ]
    }
   ],
   "source": [
    "best_model = lgb.LGBMClassifier()\n",
    "best_model.fit(X_train, y_train)\n",
    "\n",
    "y_pred_proba = best_model.predict_proba(X_test)[:, 1]\n",
    "\n",
    "roc_auc = roc_auc_score(y_test, y_pred_proba)\n",
    "print(f'ROC AUC with Best Parameters: {roc_auc}')"
   ]
  },
  {
   "cell_type": "code",
   "execution_count": 21,
   "id": "9a3aa6c4-b9d1-48bd-ac34-acf599c1c570",
   "metadata": {},
   "outputs": [],
   "source": [
    "feature_importances = best_model.feature_importances_"
   ]
  },
  {
   "cell_type": "code",
   "execution_count": 49,
   "id": "1b51386a-c14c-490e-b74b-0ccd1b97b39b",
   "metadata": {},
   "outputs": [
    {
     "data": {
      "text/plain": [
       "(45, 1)"
      ]
     },
     "execution_count": 49,
     "metadata": {},
     "output_type": "execute_result"
    }
   ],
   "source": [
    "df = pd.DataFrame(feature_importances)\n",
    "df.columns = ['importance']\n",
    "df = df.sort_values(by='importance', ascending=False)\n",
    "\n",
    "df[df['importance'] > 10].shape"
   ]
  }
 ],
 "metadata": {
  "kernelspec": {
   "display_name": "Python 3 (ipykernel)",
   "language": "python",
   "name": "python3"
  },
  "language_info": {
   "codemirror_mode": {
    "name": "ipython",
    "version": 3
   },
   "file_extension": ".py",
   "mimetype": "text/x-python",
   "name": "python",
   "nbconvert_exporter": "python",
   "pygments_lexer": "ipython3",
   "version": "3.12.7"
  }
 },
 "nbformat": 4,
 "nbformat_minor": 5
}
